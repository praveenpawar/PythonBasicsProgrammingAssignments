{
 "cells": [
  {
   "cell_type": "markdown",
   "id": "fa66e53b",
   "metadata": {},
   "source": [
    "# Assignment - 1\n",
    "\n",
    "## by praveen pawar"
   ]
  },
  {
   "cell_type": "markdown",
   "id": "83043066",
   "metadata": {},
   "source": [
    "## 1. Write a Python program to print \"Hello Python\"?"
   ]
  },
  {
   "cell_type": "code",
   "execution_count": 1,
   "id": "940d5671",
   "metadata": {},
   "outputs": [
    {
     "name": "stdout",
     "output_type": "stream",
     "text": [
      "Hello Python\n"
     ]
    }
   ],
   "source": [
    "print(\"Hello Python\")"
   ]
  },
  {
   "cell_type": "markdown",
   "id": "c484e536",
   "metadata": {},
   "source": [
    "## 2. Write a Python program to do arithmetical operations addition and division.?"
   ]
  },
  {
   "cell_type": "code",
   "execution_count": 2,
   "id": "bcf1957a",
   "metadata": {},
   "outputs": [
    {
     "name": "stdout",
     "output_type": "stream",
     "text": [
      "Enter the first value: 10\n",
      "Enter the second value: 2\n",
      "Addition of the values:  12\n",
      "Division of the values:  5\n"
     ]
    }
   ],
   "source": [
    "a = int(input(\"Enter the first value: \"))\n",
    "b = int(input(\"Enter the second value: \"))\n",
    "\n",
    "print(\"Addition of the values: \", a+b)\n",
    "print(\"Division of the values: \", a//b)"
   ]
  },
  {
   "cell_type": "markdown",
   "id": "1911e9ec",
   "metadata": {},
   "source": [
    "## 3. Write a Python program to find the area of a triangle?"
   ]
  },
  {
   "cell_type": "code",
   "execution_count": 3,
   "id": "2b7c6422",
   "metadata": {},
   "outputs": [
    {
     "name": "stdout",
     "output_type": "stream",
     "text": [
      "Enter the height of triangle: 10\n",
      "Enter the base of the triangle: 15\n",
      "\n",
      "Area of Triangle:  75.0\n"
     ]
    }
   ],
   "source": [
    "height = int(input(\"Enter the height of triangle: \"))\n",
    "base = int(input(\"Enter the base of the triangle: \"))\n",
    "\n",
    "def areaOfTriangle(height,base):\n",
    "    print(\"\\nArea of Triangle: \", 0.5*height*base)\n",
    "\n",
    "areaOfTriangle(height, base)"
   ]
  },
  {
   "cell_type": "markdown",
   "id": "ff33412b",
   "metadata": {},
   "source": [
    "## 4. Write a Python program to swap two variables?"
   ]
  },
  {
   "cell_type": "code",
   "execution_count": 4,
   "id": "348f7aa0",
   "metadata": {},
   "outputs": [
    {
     "name": "stdout",
     "output_type": "stream",
     "text": [
      "Enter First Number: 20\n",
      "Enter Second Number: 30\n",
      "Before swapping nums:  20 30\n",
      "After swapping nums:  30 20\n"
     ]
    }
   ],
   "source": [
    "num1 = int(input(\"Enter First Number: \"))\n",
    "num2 = int(input(\"Enter Second Number: \"))\n",
    "\n",
    "def swapNumbers(a,b):\n",
    "    temp = a\n",
    "    a = b\n",
    "    b = temp\n",
    "    return a,b\n",
    "\n",
    "print(\"Before swapping nums: \", num1, num2)\n",
    "num1, num2 = swapNumbers(num1, num2)\n",
    "print(\"After swapping nums: \", num1, num2)"
   ]
  },
  {
   "cell_type": "markdown",
   "id": "55623102",
   "metadata": {},
   "source": [
    "## 5. Write a Python program to generate a random number?"
   ]
  },
  {
   "cell_type": "code",
   "execution_count": 5,
   "id": "5ec280ce",
   "metadata": {},
   "outputs": [
    {
     "name": "stdout",
     "output_type": "stream",
     "text": [
      "Random Number:  2\n"
     ]
    }
   ],
   "source": [
    "import random\n",
    "print(\"Random Number: \", random.randint(1, 10))"
   ]
  },
  {
   "cell_type": "code",
   "execution_count": null,
   "id": "939d3c89",
   "metadata": {},
   "outputs": [],
   "source": []
  }
 ],
 "metadata": {
  "kernelspec": {
   "display_name": "Python 3 (ipykernel)",
   "language": "python",
   "name": "python3"
  },
  "language_info": {
   "codemirror_mode": {
    "name": "ipython",
    "version": 3
   },
   "file_extension": ".py",
   "mimetype": "text/x-python",
   "name": "python",
   "nbconvert_exporter": "python",
   "pygments_lexer": "ipython3",
   "version": "3.9.13"
  }
 },
 "nbformat": 4,
 "nbformat_minor": 5
}

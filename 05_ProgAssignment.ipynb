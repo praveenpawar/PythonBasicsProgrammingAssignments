{
 "cells": [
  {
   "cell_type": "markdown",
   "id": "ef917bbf",
   "metadata": {},
   "source": [
    "# Assignment - 5"
   ]
  },
  {
   "cell_type": "markdown",
   "id": "8260565c",
   "metadata": {},
   "source": [
    "### by praveen pawar"
   ]
  },
  {
   "cell_type": "markdown",
   "id": "9b82b400",
   "metadata": {},
   "source": [
    "### Q.1 Write a Python Program to Find LCM?"
   ]
  },
  {
   "cell_type": "code",
   "execution_count": 1,
   "id": "110ee044",
   "metadata": {},
   "outputs": [
    {
     "name": "stdout",
     "output_type": "stream",
     "text": [
      "Enter first number: 4\n",
      "Enter second number: 5\n",
      "The LCM of 4 and 5 is 20\n"
     ]
    }
   ],
   "source": [
    "def lcm(a, b):\n",
    "    if a > b:\n",
    "        greater = a\n",
    "    else:\n",
    "        greater = b\n",
    "    while True:\n",
    "        if ((greater % a == 0) and (greater % b == 0)):\n",
    "            lcm = greater\n",
    "            break\n",
    "        greater += 1\n",
    "    return lcm\n",
    "\n",
    "\n",
    "num1 = int(input(\"Enter first number: \"))\n",
    "num2 = int(input(\"Enter second number: \"))\n",
    "\n",
    "lcm_of_numbers = lcm(num1, num2)\n",
    "\n",
    "print(f\"The LCM of {num1} and {num2} is {lcm_of_numbers}\")\n"
   ]
  },
  {
   "cell_type": "markdown",
   "id": "ea54e00f",
   "metadata": {},
   "source": [
    "### Q.2 Write a Python Program to Find HCF?"
   ]
  },
  {
   "cell_type": "code",
   "execution_count": 3,
   "id": "c0756940",
   "metadata": {},
   "outputs": [
    {
     "name": "stdout",
     "output_type": "stream",
     "text": [
      "Enter first number: 5\n",
      "Enter second number: 3\n",
      "The HCF of 5 and 3 is 1\n"
     ]
    }
   ],
   "source": [
    "def hcf(a, b):\n",
    "    if a > b:\n",
    "        smaller = b\n",
    "    else:\n",
    "        smaller = a\n",
    "    for i in range(1, smaller + 1):\n",
    "        if (a % i == 0) and (b % i == 0):\n",
    "            hcf = i\n",
    "            break\n",
    "    return hcf\n",
    "\n",
    "\n",
    "num1 = int(input(\"Enter first number: \"))\n",
    "num2 = int(input(\"Enter second number: \"))\n",
    "\n",
    "hcf_of_numbers = hcf(num1, num2)\n",
    "\n",
    "print(f\"The HCF of {num1} and {num2} is {hcf_of_numbers}\")\n"
   ]
  },
  {
   "cell_type": "markdown",
   "id": "6982f050",
   "metadata": {},
   "source": [
    "### Q.3 Write a Python Program to Convert Decimal to Binary, Octal and Hexadecimal?"
   ]
  },
  {
   "cell_type": "code",
   "execution_count": 4,
   "id": "b166bb6c",
   "metadata": {},
   "outputs": [
    {
     "name": "stdout",
     "output_type": "stream",
     "text": [
      "Enter a decimal number: 123\n",
      "The decimal number 123 is:\n",
      "In binary: 1111011\n",
      "In octal: 173\n",
      "In hexadecimal: 7b\n"
     ]
    }
   ],
   "source": [
    "def convert_to_binary(decimal):\n",
    "    binary = bin(decimal)[2:]\n",
    "    return binary\n",
    "\n",
    "\n",
    "def convert_to_octal(decimal):\n",
    "    octal = oct(decimal)[2:]\n",
    "    return octal\n",
    "\n",
    "\n",
    "def convert_to_hexadecimal(decimal):\n",
    "    hexadecimal = hex(decimal)[2:]\n",
    "    return hexadecimal\n",
    "\n",
    "\n",
    "decimal = int(input(\"Enter a decimal number: \"))\n",
    "\n",
    "binary = convert_to_binary(decimal)\n",
    "octal = convert_to_octal(decimal)\n",
    "hexadecimal = convert_to_hexadecimal(decimal)\n",
    "\n",
    "print(f\"The decimal number {decimal} is:\")\n",
    "print(f\"In binary: {binary}\")\n",
    "print(f\"In octal: {octal}\")\n",
    "print(f\"In hexadecimal: {hexadecimal}\")"
   ]
  },
  {
   "cell_type": "markdown",
   "id": "ce91897b",
   "metadata": {},
   "source": [
    "### Q.4 Write a Python Program To Find ASCII value of a character?"
   ]
  },
  {
   "cell_type": "code",
   "execution_count": 5,
   "id": "d152717d",
   "metadata": {},
   "outputs": [
    {
     "name": "stdout",
     "output_type": "stream",
     "text": [
      "Enter a character: A\n",
      "The ASCII value of A is 65\n"
     ]
    }
   ],
   "source": [
    "def find_ascii_value(character):\n",
    "    ascii_value = ord(character)\n",
    "    return ascii_value\n",
    "\n",
    "\n",
    "character = input(\"Enter a character: \")\n",
    "\n",
    "ascii_value = find_ascii_value(character)\n",
    "\n",
    "print(f\"The ASCII value of {character} is {ascii_value}\")"
   ]
  },
  {
   "cell_type": "markdown",
   "id": "3efac9ad",
   "metadata": {},
   "source": [
    "### Q.5 Write a Python Program to Make a Simple Calculator with 4 basic mathematical operations?"
   ]
  },
  {
   "cell_type": "code",
   "execution_count": 6,
   "id": "ec03250a",
   "metadata": {},
   "outputs": [
    {
     "name": "stdout",
     "output_type": "stream",
     "text": [
      "Select operation.\n",
      "1.Addition\n",
      "2.Subtraction\n",
      "3.Multiplication\n",
      "4.Division\n",
      "Select operation(1/2/3/4): 3\n",
      "Enter 1st number: 4\n",
      "Enter 2nd number: 5\n",
      "4.0 * 5.0 = 20.0\n",
      "Continue calculation? (Y/N): N\n"
     ]
    }
   ],
   "source": [
    "def add(a, b):\n",
    "    return a + b\n",
    "\n",
    "\n",
    "def subtract(a, b):\n",
    "    return a - b\n",
    "\n",
    "\n",
    "def multiply(a, b):\n",
    "    return a * b\n",
    "\n",
    "\n",
    "def divide(a, b):\n",
    "    return a / b\n",
    "\n",
    "\n",
    "while True:\n",
    "    print(\"Select operation.\")\n",
    "    print(\"1.Addition\")\n",
    "    print(\"2.Subtraction\")\n",
    "    print(\"3.Multiplication\")\n",
    "    print(\"4.Division\")\n",
    "\n",
    "    operation = input(\"Select operation(1/2/3/4): \")\n",
    "\n",
    "    if operation in ('1', '2', '3', '4'):\n",
    "        try:\n",
    "            num1 = float(input(\"Enter 1st number: \"))\n",
    "            num2 = float(input(\"Enter 2nd number: \"))\n",
    "\n",
    "        except ValueError:\n",
    "            print(\"Invalid input. Please enter a valid number.\")\n",
    "            continue\n",
    "\n",
    "        if operation == '1':\n",
    "            print(f\"{num1} + {num2} = {add(num1, num2)}\")\n",
    "\n",
    "        elif operation == '2':\n",
    "            print(f\"{num1} - {num2} = {subtract(num1, num2)}\")\n",
    "\n",
    "        elif operation == '3':\n",
    "            print(f\"{num1} * {num2} = {multiply(num1, num2)}\")\n",
    "\n",
    "        else:\n",
    "            print(f\"{num1} / {num2} = {divide(num1, num2)}\")\n",
    "\n",
    "    else:\n",
    "        print(\"Invalid input!\")\n",
    "\n",
    "    choice = input(\"Continue calculation? (Y/N): \")\n",
    "    if choice == \"N\":\n",
    "        break\n"
   ]
  },
  {
   "cell_type": "code",
   "execution_count": null,
   "id": "06e668ed",
   "metadata": {},
   "outputs": [],
   "source": []
  }
 ],
 "metadata": {
  "kernelspec": {
   "display_name": "Python 3 (ipykernel)",
   "language": "python",
   "name": "python3"
  },
  "language_info": {
   "codemirror_mode": {
    "name": "ipython",
    "version": 3
   },
   "file_extension": ".py",
   "mimetype": "text/x-python",
   "name": "python",
   "nbconvert_exporter": "python",
   "pygments_lexer": "ipython3",
   "version": "3.9.13"
  }
 },
 "nbformat": 4,
 "nbformat_minor": 5
}
